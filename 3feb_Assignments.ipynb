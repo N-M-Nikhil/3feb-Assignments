{
 "cells": [
  {
   "cell_type": "code",
   "execution_count": 1,
   "id": "9e6ccae8-e2e9-43a3-9b23-5ab37818c80f",
   "metadata": {},
   "outputs": [
    {
     "data": {
      "text/plain": [
       "[1, 3, 5, 7, 9, 11, 13, 15, 17, 19, 21, 23, 25]"
      ]
     },
     "execution_count": 1,
     "metadata": {},
     "output_type": "execute_result"
    }
   ],
   "source": [
    "# Q.1.Answer\n",
    "# def \n",
    "def fun1():\n",
    "    l = []\n",
    "    i = 1\n",
    "    for i in range(1,26):\n",
    "        if i%2!=0:\n",
    "            l.append(i)\n",
    "    return l\n",
    "fun1()\n",
    "            \n",
    "            "
   ]
  },
  {
   "cell_type": "code",
   "execution_count": 2,
   "id": "e493277b-74b9-4f34-9be3-52dd5b345d96",
   "metadata": {},
   "outputs": [],
   "source": [
    "# Q.2.Answer\n",
    "# *args and **kwargs is used when we are not sure about the number of arguments which will be passed to the specific function\n",
    "def fun2(*args):\n",
    "    return args\n",
    "\n",
    "\n",
    "\n",
    "def fun3(**kwargs):\n",
    "    return kwargs\n",
    "\n",
    "\n",
    "    "
   ]
  },
  {
   "cell_type": "code",
   "execution_count": 3,
   "id": "2b144c90-a6f7-416a-a1ee-0febae37a023",
   "metadata": {},
   "outputs": [
    {
     "data": {
      "text/plain": [
       "(42, 2.6, 'nikhil', [1, 2, 5])"
      ]
     },
     "execution_count": 3,
     "metadata": {},
     "output_type": "execute_result"
    }
   ],
   "source": [
    "fun2(42,2.6,'nikhil',[1,2,5])"
   ]
  },
  {
   "cell_type": "code",
   "execution_count": 4,
   "id": "cb948501-70ea-4071-8399-b8d855cf547e",
   "metadata": {},
   "outputs": [
    {
     "data": {
      "text/plain": [
       "{'name': 'nik', 'age': 18, 'x': [1, 2, 3]}"
      ]
     },
     "execution_count": 4,
     "metadata": {},
     "output_type": "execute_result"
    }
   ],
   "source": [
    "fun3(name='nik',age=18,x=[1,2,3])"
   ]
  },
  {
   "cell_type": "code",
   "execution_count": 5,
   "id": "de05be72-79f4-47eb-99c7-27e28d37c89e",
   "metadata": {},
   "outputs": [
    {
     "name": "stdout",
     "output_type": "stream",
     "text": [
      "2\n",
      "4\n",
      "6\n",
      "8\n",
      "10\n"
     ]
    }
   ],
   "source": [
    "# Q.3.Answer\n",
    "# Iterator is an onject which contains countable values.iter() method is used to initialise the iterator object and next() method\n",
    "# used for iteration.\n",
    "\n",
    "\n",
    "\n",
    "list1=[2,4,6,8,10,12,14,16,18,20]\n",
    "l1_iter=iter(list1)\n",
    "print(next(l1_iter))\n",
    "print(next(l1_iter))\n",
    "print(next(l1_iter))\n",
    "print(next(l1_iter))\n",
    "print(next(l1_iter))\n"
   ]
  },
  {
   "cell_type": "code",
   "execution_count": 6,
   "id": "29935c84-28cf-4d65-9228-bd013601587c",
   "metadata": {},
   "outputs": [
    {
     "name": "stdout",
     "output_type": "stream",
     "text": [
      "0\n",
      "1\n",
      "1\n",
      "2\n",
      "3\n"
     ]
    }
   ],
   "source": [
    "# Q.4.Answer\n",
    "# A function that uses the yield keyword is called generator function.The yield keyword is used to return a value to the caller of a Python function without losing the state of the function.\n",
    "# Example:\n",
    "def fun3(n):\n",
    "    a,b = 0,1\n",
    "    for i in range(n):\n",
    "        yield a\n",
    "        a,b = b,a+b\n",
    "for i in fun3(5):\n",
    "    print(i)\n",
    "   "
   ]
  },
  {
   "cell_type": "code",
   "execution_count": 7,
   "id": "2772b429-f3e8-435b-992b-7a495c6ce3c9",
   "metadata": {},
   "outputs": [],
   "source": [
    "# Q.5.Answer\n",
    "def check_prime(n):\n",
    "    for i in range(2,n):\n",
    "            if n%i==0:\n",
    "                break\n",
    "            else :\n",
    "                print(n)\n",
    "\n",
    "\n",
    "    \n",
    "            "
   ]
  },
  {
   "cell_type": "code",
   "execution_count": 11,
   "id": "862a2661-24a7-4fd0-82fb-f3301867baaa",
   "metadata": {},
   "outputs": [
    {
     "name": "stdin",
     "output_type": "stream",
     "text": [
      "Enter the number = 10\n"
     ]
    },
    {
     "name": "stdout",
     "output_type": "stream",
     "text": [
      "0\n",
      "1\n",
      "1\n",
      "2\n",
      "3\n",
      "5\n",
      "8\n",
      "13\n",
      "21\n",
      "34\n"
     ]
    }
   ],
   "source": [
    "# Q.6.Answer\n",
    "n = int(input('Enter the number ='))\n",
    "a,b = 0,1\n",
    "start = 0\n",
    "while start < n:\n",
    "    print(a)\n",
    "    c = a+b\n",
    "    a = b\n",
    "    b = c\n",
    "    start +=1"
   ]
  },
  {
   "cell_type": "code",
   "execution_count": 12,
   "id": "6aa4e999-0b1c-4b8e-b0a1-3688e6201a1b",
   "metadata": {},
   "outputs": [
    {
     "name": "stdout",
     "output_type": "stream",
     "text": [
      "['p', 'w', 's', 'k', 'i', 'l', 'l', 's']\n"
     ]
    }
   ],
   "source": [
    "# Q.7.Answer\n",
    "s = 'pwskills'\n",
    "l = [i for i in s]\n",
    "print(l)\n"
   ]
  },
  {
   "cell_type": "code",
   "execution_count": 14,
   "id": "098b1eb9-1153-4fd9-ac7f-f74f3f2f3db4",
   "metadata": {},
   "outputs": [
    {
     "name": "stdin",
     "output_type": "stream",
     "text": [
      "Enter the number = 15151\n"
     ]
    },
    {
     "name": "stdout",
     "output_type": "stream",
     "text": [
      "The given number is in palindrome\n"
     ]
    }
   ],
   "source": [
    "# Q.8.Answer\n",
    "n = int(input('Enter the number ='))\n",
    "t = n\n",
    "r = 0\n",
    "while n>0:\n",
    "    d = n%10\n",
    "    r = r*10+d\n",
    "    n = n//10\n",
    "    \n",
    "if t==r:\n",
    "    print('The given number is in palindrome')\n",
    "else :\n",
    "    print('The given number in not in palindrome')\n"
   ]
  },
  {
   "cell_type": "code",
   "execution_count": 15,
   "id": "882c39f6-3389-4c27-b67b-c917e40531a4",
   "metadata": {},
   "outputs": [
    {
     "name": "stdout",
     "output_type": "stream",
     "text": [
      "[1, 3, 5, 7, 9, 11, 13, 15, 17, 19, 21, 23, 25, 27, 29, 31, 33, 35, 37, 39, 41, 43, 45, 47, 49, 51, 53, 55, 57, 59, 61, 63, 65, 67, 69, 71, 73, 75, 77, 79, 81, 83, 85, 87, 89, 91, 93, 95, 97, 99]\n"
     ]
    }
   ],
   "source": [
    "# Q.9.Answer\n",
    "l1 = [i for i in range(101)]\n",
    "l2 = [i for i in l1  if i%2!=0]\n",
    "print(l2)"
   ]
  },
  {
   "cell_type": "code",
   "execution_count": null,
   "id": "a520f064-4780-4d6a-b33f-5a23f0fcee25",
   "metadata": {},
   "outputs": [],
   "source": []
  }
 ],
 "metadata": {
  "kernelspec": {
   "display_name": "Python 3 (ipykernel)",
   "language": "python",
   "name": "python3"
  },
  "language_info": {
   "codemirror_mode": {
    "name": "ipython",
    "version": 3
   },
   "file_extension": ".py",
   "mimetype": "text/x-python",
   "name": "python",
   "nbconvert_exporter": "python",
   "pygments_lexer": "ipython3",
   "version": "3.10.8"
  }
 },
 "nbformat": 4,
 "nbformat_minor": 5
}
